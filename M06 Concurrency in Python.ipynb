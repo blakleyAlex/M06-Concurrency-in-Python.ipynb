{
 "cells": [
  {
   "cell_type": "code",
   "execution_count": 1,
   "id": "f14689a7",
   "metadata": {},
   "outputs": [
    {
     "name": "stdout",
     "output_type": "stream",
     "text": [
      "2023-12-04\n"
     ]
    }
   ],
   "source": [
    "#13.1\n",
    "\n",
    "from datetime import date\n",
    "\n",
    "current_date = date.today()\n",
    "\n",
    "date_string = current_date.strftime(\"%Y-%m-%d\")\n",
    "\n",
    "print(date_string)"
   ]
  },
  {
   "cell_type": "code",
   "execution_count": 2,
   "id": "dad34763",
   "metadata": {},
   "outputs": [],
   "source": [
    "with open('today.txt', 'w') as file:\n",
    "    file.write(date_string)"
   ]
  },
  {
   "cell_type": "code",
   "execution_count": 3,
   "id": "a63a148b",
   "metadata": {},
   "outputs": [
    {
     "name": "stdout",
     "output_type": "stream",
     "text": [
      "2023-12-04\n"
     ]
    }
   ],
   "source": [
    "#13.2\n",
    "\n",
    "with open('today.txt', 'r') as file:\n",
    "    today_string = file.read()\n",
    "    \n",
    "print(today_string)"
   ]
  },
  {
   "cell_type": "code",
   "execution_count": 4,
   "id": "26b64d9f",
   "metadata": {},
   "outputs": [
    {
     "name": "stdout",
     "output_type": "stream",
     "text": [
      "2023-12-04 00:00:00\n"
     ]
    }
   ],
   "source": [
    "#13.3 \n",
    "\n",
    "from datetime import datetime\n",
    "\n",
    "date_format = \"%Y-%m-%d\"\n",
    "\n",
    "parsed_date = datetime.strptime(today_string, date_format)\n",
    "\n",
    "print(parsed_date)"
   ]
  },
  {
   "cell_type": "code",
   "execution_count": 7,
   "id": "ddff9034",
   "metadata": {},
   "outputs": [],
   "source": [
    "#15.1\n",
    "\n",
    "import multiprocessing\n",
    "import time\n",
    "import random\n",
    "from datetime import datetime\n",
    "\n",
    "def process_task():\n",
    "    wait_time = random.random()\n",
    "    time.sleep(wait_time)\n",
    "    \n",
    "    current_time = datetime.now().strftime(\"%Y-%m-%d %H:%M:%S\")\n",
    "    print(f\"Current time: {current_time}\")\n",
    "    \n",
    "if __name__ == \"__main__\":\n",
    "    \n",
    "    processes = []\n",
    "    for i in range(3):\n",
    "        process = multiprocessing.Process(target=process_task)\n",
    "        processes.append(process)\n",
    "        process.start()\n",
    "        \n",
    "    for process in processes:\n",
    "        process.join()"
   ]
  },
  {
   "cell_type": "code",
   "execution_count": null,
   "id": "9896cee7",
   "metadata": {},
   "outputs": [],
   "source": []
  }
 ],
 "metadata": {
  "kernelspec": {
   "display_name": "Python 3 (ipykernel)",
   "language": "python",
   "name": "python3"
  },
  "language_info": {
   "codemirror_mode": {
    "name": "ipython",
    "version": 3
   },
   "file_extension": ".py",
   "mimetype": "text/x-python",
   "name": "python",
   "nbconvert_exporter": "python",
   "pygments_lexer": "ipython3",
   "version": "3.11.5"
  }
 },
 "nbformat": 4,
 "nbformat_minor": 5
}
